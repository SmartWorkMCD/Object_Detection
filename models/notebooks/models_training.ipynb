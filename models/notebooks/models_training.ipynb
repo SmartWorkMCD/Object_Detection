{
 "cells": [
  {
   "cell_type": "markdown",
   "metadata": {},
   "source": [
    "# **Object Detection - Models Training**\n",
    "\n",
    "---"
   ]
  },
  {
   "cell_type": "code",
   "execution_count": 1,
   "metadata": {},
   "outputs": [],
   "source": [
    "from collections import Counter\n",
    "from glob import glob\n",
    "import json\n",
    "import os\n",
    "import pathlib\n",
    "from PIL import Image\n",
    "import random\n",
    "from rfdetr import RFDETRBase\n",
    "import shutil\n",
    "import torch\n",
    "from tqdm import tqdm\n",
    "from ultralytics import YOLO"
   ]
  },
  {
   "cell_type": "code",
   "execution_count": 2,
   "metadata": {},
   "outputs": [],
   "source": [
    "def get_image_label_pairs(\n",
    "    image_root, annotation_root, image_ext=\"jpg\", label_ext=\"txt\"\n",
    "):\n",
    "    pairs = []\n",
    "    image_files = glob(os.path.join(image_root, \"**\", f\"*.{image_ext}\"), recursive=True)\n",
    "\n",
    "    for img in image_files:\n",
    "        rel_path = os.path.relpath(img, image_root)\n",
    "        label = os.path.join(\n",
    "            annotation_root, os.path.splitext(rel_path)[0] + f\".{label_ext}\"\n",
    "        )\n",
    "\n",
    "        if os.path.exists(label):\n",
    "            pairs.append((img, label))\n",
    "        else:\n",
    "            print(f\"Warning: Label file not found for image {img}\")\n",
    "\n",
    "    return pairs"
   ]
  },
  {
   "cell_type": "code",
   "execution_count": 3,
   "metadata": {},
   "outputs": [
    {
     "name": "stdout",
     "output_type": "stream",
     "text": [
      "Found 19122 image-label pairs.\n"
     ]
    }
   ],
   "source": [
    "image_root = \"../../data/augmented_data/frames\"\n",
    "annotation_root = \"../../data/annotations\"\n",
    "pairs = get_image_label_pairs(image_root, annotation_root)\n",
    "print(f\"Found {len(pairs)} image-label pairs.\")"
   ]
  },
  {
   "cell_type": "code",
   "execution_count": 4,
   "metadata": {},
   "outputs": [
    {
     "name": "stdout",
     "output_type": "stream",
     "text": [
      "Found 0 empty label files.\n"
     ]
    }
   ],
   "source": [
    "empty_files = []\n",
    "\n",
    "for root, _, files in os.walk(annotation_root):\n",
    "    for file in files:\n",
    "        file_path = os.path.join(root, file)\n",
    "\n",
    "        if os.stat(file_path).st_size == 0:\n",
    "            empty_files.append(file_path)\n",
    "\n",
    "print(f\"Found {len(empty_files)} empty label files.\")"
   ]
  },
  {
   "cell_type": "code",
   "execution_count": 5,
   "metadata": {},
   "outputs": [
    {
     "data": {
      "text/plain": [
       "Counter({'0': 31261, '1': 30493, '4': 30446, '2': 29889, '3': 26814})"
      ]
     },
     "execution_count": 5,
     "metadata": {},
     "output_type": "execute_result"
    }
   ],
   "source": [
    "label_counts = Counter()\n",
    "\n",
    "for root, _, files in os.walk(annotation_root):\n",
    "    for file in files:\n",
    "        with open(os.path.join(root, file), \"r\") as f:\n",
    "            lines = f.readlines()\n",
    "\n",
    "            for line in lines:\n",
    "                class_id = line.split()[0]\n",
    "                label_counts[class_id] += 1\n",
    "\n",
    "label_counts"
   ]
  },
  {
   "cell_type": "code",
   "execution_count": 6,
   "metadata": {},
   "outputs": [
    {
     "name": "stdout",
     "output_type": "stream",
     "text": [
      "Dataset split completed: 13385 train, 3824 val, 1913 test\n"
     ]
    }
   ],
   "source": [
    "# Paths\n",
    "image_dir = \"../../data/augmented_data/frames\"\n",
    "label_dir = \"../../data/annotations\"\n",
    "output_dir = \"../../data/split_data\"\n",
    "\n",
    "# Create output folders\n",
    "for split in [\"train\", \"val\", \"test\"]:\n",
    "    os.makedirs(os.path.join(output_dir, \"images\", split), exist_ok=True)\n",
    "    os.makedirs(os.path.join(output_dir, \"labels\", split), exist_ok=True)\n",
    "\n",
    "# Get all images\n",
    "all_images = []\n",
    "for root, _, files in os.walk(image_dir):\n",
    "    for file in files:\n",
    "        if file.endswith(\".jpg\") or file.endswith(\".png\"):\n",
    "            all_images.append(os.path.join(root, file))\n",
    "\n",
    "# Shuffle and split\n",
    "random.shuffle(all_images)\n",
    "train_ratio = 0.7\n",
    "val_ratio = 0.2\n",
    "train_count = int(len(all_images) * train_ratio)\n",
    "val_count = int(len(all_images) * val_ratio)\n",
    "\n",
    "train_images = all_images[:train_count]\n",
    "val_images = all_images[train_count : train_count + val_count]\n",
    "test_images = all_images[train_count + val_count :]\n",
    "\n",
    "# Move files\n",
    "def move_files(image_list, split):\n",
    "    for img_path in image_list:\n",
    "        # Get label path\n",
    "        rel_path = os.path.relpath(img_path, image_dir)\n",
    "        label_path = os.path.join(label_dir, os.path.splitext(rel_path)[0] + \".txt\")\n",
    "\n",
    "        # Define new paths\n",
    "        new_img_path = os.path.join(\n",
    "            output_dir, \"images\", split, os.path.basename(img_path)\n",
    "        )\n",
    "        new_label_path = os.path.join(\n",
    "            output_dir, \"labels\", split, os.path.basename(label_path)\n",
    "        )\n",
    "\n",
    "        # Copy files\n",
    "        shutil.copy(img_path, new_img_path)\n",
    "        if os.path.exists(label_path):\n",
    "            shutil.copy(label_path, new_label_path)\n",
    "\n",
    "\n",
    "# Move train, val & test files\n",
    "move_files(train_images, \"train\")\n",
    "move_files(val_images, \"val\")\n",
    "move_files(test_images, \"test\")\n",
    "\n",
    "print(\n",
    "    f\"Dataset split completed: {len(train_images)} train, {len(val_images)} val, {len(test_images)} test\"\n",
    ")"
   ]
  },
  {
   "cell_type": "code",
   "execution_count": 7,
   "metadata": {},
   "outputs": [
    {
     "name": "stdout",
     "output_type": "stream",
     "text": [
      "Downloading https://github.com/ultralytics/assets/releases/download/v8.3.0/yolo11n.pt to 'yolo11n.pt'...\n"
     ]
    },
    {
     "name": "stderr",
     "output_type": "stream",
     "text": [
      "100%|██████████| 5.35M/5.35M [00:00<00:00, 25.5MB/s]\n"
     ]
    },
    {
     "name": "stdout",
     "output_type": "stream",
     "text": [
      "New https://pypi.org/project/ultralytics/8.3.140 available  Update with 'pip install -U ultralytics'\n",
      "Ultralytics 8.3.133  Python-3.12.9 torch-2.6.0+cu126 CUDA:0 (NVIDIA GeForce RTX 3060 Laptop GPU, 6144MiB)\n",
      "\u001b[34m\u001b[1mengine\\trainer: \u001b[0magnostic_nms=False, amp=True, augment=True, auto_augment=randaugment, batch=4, bgr=0.0, box=7.5, cache=False, cfg=None, classes=None, close_mosaic=10, cls=0.5, conf=None, copy_paste=0.0, copy_paste_mode=flip, cos_lr=False, cutmix=0.0, data=../../data/dataset.yaml, degrees=0.0, deterministic=True, device=0, dfl=1.5, dnn=False, dropout=0.0, dynamic=False, embed=None, epochs=100, erasing=0.4, exist_ok=False, fliplr=0.5, flipud=0.0, format=torchscript, fraction=1.0, freeze=None, half=False, hsv_h=0.015, hsv_s=0.7, hsv_v=0.4, imgsz=640, int8=False, iou=0.7, keras=False, kobj=1.0, line_width=None, lr0=0.0001, lrf=0.01, mask_ratio=4, max_det=300, mixup=0.0, mode=train, model=yolo11n.pt, momentum=0.937, mosaic=1.0, multi_scale=True, name=train, nbs=64, nms=False, opset=None, optimize=False, optimizer=auto, overlap_mask=True, patience=5, perspective=0.0, plots=True, pose=12.0, pretrained=True, profile=False, project=None, rect=False, resume=False, retina_masks=False, save=True, save_conf=False, save_crop=False, save_dir=C:\\Users\\mateu\\Downloads\\UA\\Cadeiras\\Seminrio\\Object_Detection\\runs\\detect\\train, save_frames=False, save_json=False, save_period=-1, save_txt=False, scale=0.5, seed=0, shear=0.0, show=False, show_boxes=True, show_conf=True, show_labels=True, simplify=True, single_cls=False, source=None, split=val, stream_buffer=False, task=detect, time=None, tracker=botsort.yaml, translate=0.1, val=True, verbose=True, vid_stride=1, visualize=False, warmup_bias_lr=0.1, warmup_epochs=3.0, warmup_momentum=0.8, weight_decay=0.0005, workers=8, workspace=None\n",
      "Overriding model.yaml nc=80 with nc=5\n",
      "\n",
      "                   from  n    params  module                                       arguments                     \n",
      "  0                  -1  1       464  ultralytics.nn.modules.conv.Conv             [3, 16, 3, 2]                 \n",
      "  1                  -1  1      4672  ultralytics.nn.modules.conv.Conv             [16, 32, 3, 2]                \n",
      "  2                  -1  1      6640  ultralytics.nn.modules.block.C3k2            [32, 64, 1, False, 0.25]      \n",
      "  3                  -1  1     36992  ultralytics.nn.modules.conv.Conv             [64, 64, 3, 2]                \n",
      "  4                  -1  1     26080  ultralytics.nn.modules.block.C3k2            [64, 128, 1, False, 0.25]     \n",
      "  5                  -1  1    147712  ultralytics.nn.modules.conv.Conv             [128, 128, 3, 2]              \n",
      "  6                  -1  1     87040  ultralytics.nn.modules.block.C3k2            [128, 128, 1, True]           \n",
      "  7                  -1  1    295424  ultralytics.nn.modules.conv.Conv             [128, 256, 3, 2]              \n",
      "  8                  -1  1    346112  ultralytics.nn.modules.block.C3k2            [256, 256, 1, True]           \n",
      "  9                  -1  1    164608  ultralytics.nn.modules.block.SPPF            [256, 256, 5]                 \n",
      " 10                  -1  1    249728  ultralytics.nn.modules.block.C2PSA           [256, 256, 1]                 \n",
      " 11                  -1  1         0  torch.nn.modules.upsampling.Upsample         [None, 2, 'nearest']          \n",
      " 12             [-1, 6]  1         0  ultralytics.nn.modules.conv.Concat           [1]                           \n",
      " 13                  -1  1    111296  ultralytics.nn.modules.block.C3k2            [384, 128, 1, False]          \n",
      " 14                  -1  1         0  torch.nn.modules.upsampling.Upsample         [None, 2, 'nearest']          \n",
      " 15             [-1, 4]  1         0  ultralytics.nn.modules.conv.Concat           [1]                           \n",
      " 16                  -1  1     32096  ultralytics.nn.modules.block.C3k2            [256, 64, 1, False]           \n",
      " 17                  -1  1     36992  ultralytics.nn.modules.conv.Conv             [64, 64, 3, 2]                \n",
      " 18            [-1, 13]  1         0  ultralytics.nn.modules.conv.Concat           [1]                           \n",
      " 19                  -1  1     86720  ultralytics.nn.modules.block.C3k2            [192, 128, 1, False]          \n",
      " 20                  -1  1    147712  ultralytics.nn.modules.conv.Conv             [128, 128, 3, 2]              \n",
      " 21            [-1, 10]  1         0  ultralytics.nn.modules.conv.Concat           [1]                           \n",
      " 22                  -1  1    378880  ultralytics.nn.modules.block.C3k2            [384, 256, 1, True]           \n",
      " 23        [16, 19, 22]  1    431647  ultralytics.nn.modules.head.Detect           [5, [64, 128, 256]]           \n",
      "YOLO11n summary: 181 layers, 2,590,815 parameters, 2,590,799 gradients, 6.4 GFLOPs\n",
      "\n",
      "Transferred 448/499 items from pretrained weights\n",
      "Freezing layer 'model.23.dfl.conv.weight'\n",
      "\u001b[34m\u001b[1mAMP: \u001b[0mrunning Automatic Mixed Precision (AMP) checks...\n",
      "\u001b[34m\u001b[1mAMP: \u001b[0mchecks passed \n",
      "\u001b[34m\u001b[1mtrain: \u001b[0mFast image access  (ping: 0.10.0 ms, read: 26.125.6 MB/s, size: 246.0 KB)\n"
     ]
    },
    {
     "name": "stderr",
     "output_type": "stream",
     "text": [
      "\u001b[34m\u001b[1mtrain: \u001b[0mScanning C:\\Users\\mateu\\Downloads\\UA\\Cadeiras\\Seminário\\Object_Detection\\data\\split_data\\labels\\train... 2097 images, 0 backgrounds, 0 corrupt: 100%|██████████| 2097/2097 [00:02<00:00, 702.63it/s]\n"
     ]
    },
    {
     "name": "stdout",
     "output_type": "stream",
     "text": [
      "\u001b[34m\u001b[1mtrain: \u001b[0mNew cache created: C:\\Users\\mateu\\Downloads\\UA\\Cadeiras\\Seminrio\\Object_Detection\\data\\split_data\\labels\\train.cache\n",
      "\u001b[34m\u001b[1mval: \u001b[0mFast image access  (ping: 0.10.0 ms, read: 32.135.8 MB/s, size: 226.1 KB)\n"
     ]
    },
    {
     "name": "stderr",
     "output_type": "stream",
     "text": [
      "\u001b[34m\u001b[1mval: \u001b[0mScanning C:\\Users\\mateu\\Downloads\\UA\\Cadeiras\\Seminário\\Object_Detection\\data\\split_data\\labels\\val... 1795 images, 0 backgrounds, 0 corrupt: 100%|██████████| 1795/1795 [00:02<00:00, 771.71it/s]"
     ]
    },
    {
     "name": "stdout",
     "output_type": "stream",
     "text": [
      "\u001b[34m\u001b[1mval: \u001b[0mNew cache created: C:\\Users\\mateu\\Downloads\\UA\\Cadeiras\\Seminrio\\Object_Detection\\data\\split_data\\labels\\val.cache\n"
     ]
    },
    {
     "name": "stderr",
     "output_type": "stream",
     "text": [
      "\n"
     ]
    },
    {
     "name": "stdout",
     "output_type": "stream",
     "text": [
      "Plotting labels to C:\\Users\\mateu\\Downloads\\UA\\Cadeiras\\Seminrio\\Object_Detection\\runs\\detect\\train\\labels.jpg... \n",
      "\u001b[34m\u001b[1moptimizer:\u001b[0m 'optimizer=auto' found, ignoring 'lr0=0.0001' and 'momentum=0.937' and determining best 'optimizer', 'lr0' and 'momentum' automatically... \n",
      "\u001b[34m\u001b[1moptimizer:\u001b[0m AdamW(lr=0.001111, momentum=0.9) with parameter groups 81 weight(decay=0.0), 88 weight(decay=0.0005), 87 bias(decay=0.0)\n",
      "Image sizes 640 train, 640 val\n",
      "Using 8 dataloader workers\n",
      "Logging results to \u001b[1mC:\\Users\\mateu\\Downloads\\UA\\Cadeiras\\Seminrio\\Object_Detection\\runs\\detect\\train\u001b[0m\n",
      "Starting training for 100 epochs...\n",
      "\n",
      "      Epoch    GPU_mem   box_loss   cls_loss   dfl_loss  Instances       Size\n"
     ]
    },
    {
     "name": "stderr",
     "output_type": "stream",
     "text": [
      "      1/100       1.8G      1.641      2.437      0.957          9        544: 100%|██████████| 525/525 [01:14<00:00,  7.07it/s]\n",
      "                 Class     Images  Instances      Box(P          R      mAP50  mAP50-95): 100%|██████████| 225/225 [00:20<00:00, 11.09it/s]\n"
     ]
    },
    {
     "name": "stdout",
     "output_type": "stream",
     "text": [
      "                   all       1795      14205      0.734      0.756      0.778      0.483\n",
      "\n",
      "      Epoch    GPU_mem   box_loss   cls_loss   dfl_loss  Instances       Size\n"
     ]
    },
    {
     "name": "stderr",
     "output_type": "stream",
     "text": [
      "      2/100      1.83G      1.388      1.323     0.8963          3        512: 100%|██████████| 525/525 [01:02<00:00,  8.39it/s]\n",
      "                 Class     Images  Instances      Box(P          R      mAP50  mAP50-95): 100%|██████████| 225/225 [00:17<00:00, 12.64it/s]\n"
     ]
    },
    {
     "name": "stdout",
     "output_type": "stream",
     "text": [
      "                   all       1795      14205      0.805      0.824      0.878      0.623\n",
      "\n",
      "      Epoch    GPU_mem   box_loss   cls_loss   dfl_loss  Instances       Size\n"
     ]
    },
    {
     "name": "stderr",
     "output_type": "stream",
     "text": [
      "      3/100      1.84G      1.306      1.108     0.8823         13        352: 100%|██████████| 525/525 [01:00<00:00,  8.64it/s]\n",
      "                 Class     Images  Instances      Box(P          R      mAP50  mAP50-95): 100%|██████████| 225/225 [00:17<00:00, 12.90it/s]"
     ]
    },
    {
     "name": "stdout",
     "output_type": "stream",
     "text": [
      "                   all       1795      14205      0.873      0.877      0.932      0.681\n"
     ]
    },
    {
     "name": "stderr",
     "output_type": "stream",
     "text": [
      "\n"
     ]
    },
    {
     "name": "stdout",
     "output_type": "stream",
     "text": [
      "\n",
      "      Epoch    GPU_mem   box_loss   cls_loss   dfl_loss  Instances       Size\n"
     ]
    },
    {
     "name": "stderr",
     "output_type": "stream",
     "text": [
      "      4/100      1.84G      1.219      0.946     0.8692          4        320: 100%|██████████| 525/525 [01:01<00:00,  8.60it/s]\n",
      "                 Class     Images  Instances      Box(P          R      mAP50  mAP50-95): 100%|██████████| 225/225 [00:16<00:00, 13.45it/s]"
     ]
    },
    {
     "name": "stdout",
     "output_type": "stream",
     "text": [
      "                   all       1795      14205       0.89        0.9      0.948      0.654\n"
     ]
    },
    {
     "name": "stderr",
     "output_type": "stream",
     "text": [
      "\n"
     ]
    },
    {
     "name": "stdout",
     "output_type": "stream",
     "text": [
      "\n",
      "      Epoch    GPU_mem   box_loss   cls_loss   dfl_loss  Instances       Size\n"
     ]
    },
    {
     "name": "stderr",
     "output_type": "stream",
     "text": [
      "      5/100      1.86G      1.221     0.8648     0.8705         13        352: 100%|██████████| 525/525 [00:59<00:00,  8.76it/s]\n",
      "                 Class     Images  Instances      Box(P          R      mAP50  mAP50-95): 100%|██████████| 225/225 [00:17<00:00, 12.89it/s]"
     ]
    },
    {
     "name": "stdout",
     "output_type": "stream",
     "text": [
      "                   all       1795      14205      0.935      0.902      0.963      0.739\n"
     ]
    },
    {
     "name": "stderr",
     "output_type": "stream",
     "text": [
      "\n"
     ]
    },
    {
     "name": "stdout",
     "output_type": "stream",
     "text": [
      "\n",
      "      Epoch    GPU_mem   box_loss   cls_loss   dfl_loss  Instances       Size\n"
     ]
    },
    {
     "name": "stderr",
     "output_type": "stream",
     "text": [
      "      6/100      1.87G      1.115     0.7847     0.8594         10        608: 100%|██████████| 525/525 [00:59<00:00,  8.76it/s]\n",
      "                 Class     Images  Instances      Box(P          R      mAP50  mAP50-95): 100%|██████████| 225/225 [00:17<00:00, 12.80it/s]"
     ]
    },
    {
     "name": "stdout",
     "output_type": "stream",
     "text": [
      "                   all       1795      14205      0.923      0.887      0.954      0.717\n"
     ]
    },
    {
     "name": "stderr",
     "output_type": "stream",
     "text": [
      "\n"
     ]
    },
    {
     "name": "stdout",
     "output_type": "stream",
     "text": [
      "\n",
      "      Epoch    GPU_mem   box_loss   cls_loss   dfl_loss  Instances       Size\n"
     ]
    },
    {
     "name": "stderr",
     "output_type": "stream",
     "text": [
      "      7/100      1.95G      1.127     0.7692     0.8516         10        416: 100%|██████████| 525/525 [00:59<00:00,  8.85it/s]\n",
      "                 Class     Images  Instances      Box(P          R      mAP50  mAP50-95): 100%|██████████| 225/225 [00:17<00:00, 12.87it/s]"
     ]
    },
    {
     "name": "stdout",
     "output_type": "stream",
     "text": [
      "                   all       1795      14205      0.942      0.924      0.972      0.706\n"
     ]
    },
    {
     "name": "stderr",
     "output_type": "stream",
     "text": [
      "\n"
     ]
    },
    {
     "name": "stdout",
     "output_type": "stream",
     "text": [
      "\n",
      "      Epoch    GPU_mem   box_loss   cls_loss   dfl_loss  Instances       Size\n"
     ]
    },
    {
     "name": "stderr",
     "output_type": "stream",
     "text": [
      "      8/100      2.04G      1.099     0.7181     0.8489          3        608: 100%|██████████| 525/525 [00:58<00:00,  8.93it/s]\n",
      "                 Class     Images  Instances      Box(P          R      mAP50  mAP50-95): 100%|██████████| 225/225 [00:17<00:00, 13.23it/s]"
     ]
    },
    {
     "name": "stdout",
     "output_type": "stream",
     "text": [
      "                   all       1795      14205      0.945      0.932      0.974      0.733\n"
     ]
    },
    {
     "name": "stderr",
     "output_type": "stream",
     "text": [
      "\n"
     ]
    },
    {
     "name": "stdout",
     "output_type": "stream",
     "text": [
      "\n",
      "      Epoch    GPU_mem   box_loss   cls_loss   dfl_loss  Instances       Size\n"
     ]
    },
    {
     "name": "stderr",
     "output_type": "stream",
     "text": [
      "      9/100      2.05G      1.064     0.6962     0.8444          5        672: 100%|██████████| 525/525 [00:58<00:00,  8.92it/s]\n",
      "                 Class     Images  Instances      Box(P          R      mAP50  mAP50-95): 100%|██████████| 225/225 [00:18<00:00, 12.34it/s]"
     ]
    },
    {
     "name": "stdout",
     "output_type": "stream",
     "text": [
      "                   all       1795      14205      0.963      0.943       0.98      0.741\n"
     ]
    },
    {
     "name": "stderr",
     "output_type": "stream",
     "text": [
      "\n"
     ]
    },
    {
     "name": "stdout",
     "output_type": "stream",
     "text": [
      "\n",
      "      Epoch    GPU_mem   box_loss   cls_loss   dfl_loss  Instances       Size\n"
     ]
    },
    {
     "name": "stderr",
     "output_type": "stream",
     "text": [
      "     10/100      2.05G      1.034     0.6609     0.8447          8        736: 100%|██████████| 525/525 [00:59<00:00,  8.87it/s]\n",
      "                 Class     Images  Instances      Box(P          R      mAP50  mAP50-95): 100%|██████████| 225/225 [00:16<00:00, 13.27it/s]"
     ]
    },
    {
     "name": "stdout",
     "output_type": "stream",
     "text": [
      "                   all       1795      14205      0.956      0.939      0.981      0.789\n"
     ]
    },
    {
     "name": "stderr",
     "output_type": "stream",
     "text": [
      "\n"
     ]
    },
    {
     "name": "stdout",
     "output_type": "stream",
     "text": [
      "\n",
      "      Epoch    GPU_mem   box_loss   cls_loss   dfl_loss  Instances       Size\n"
     ]
    },
    {
     "name": "stderr",
     "output_type": "stream",
     "text": [
      "     11/100      2.05G     0.9938     0.6158     0.8377          4        960: 100%|██████████| 525/525 [00:58<00:00,  8.96it/s]\n",
      "                 Class     Images  Instances      Box(P          R      mAP50  mAP50-95): 100%|██████████| 225/225 [00:17<00:00, 13.18it/s]"
     ]
    },
    {
     "name": "stdout",
     "output_type": "stream",
     "text": [
      "                   all       1795      14205      0.974      0.955      0.986      0.761\n"
     ]
    },
    {
     "name": "stderr",
     "output_type": "stream",
     "text": [
      "\n"
     ]
    },
    {
     "name": "stdout",
     "output_type": "stream",
     "text": [
      "\n",
      "      Epoch    GPU_mem   box_loss   cls_loss   dfl_loss  Instances       Size\n"
     ]
    },
    {
     "name": "stderr",
     "output_type": "stream",
     "text": [
      "     12/100      2.05G     0.9991     0.6016     0.8343          3        704: 100%|██████████| 525/525 [00:58<00:00,  9.04it/s]\n",
      "                 Class     Images  Instances      Box(P          R      mAP50  mAP50-95): 100%|██████████| 225/225 [00:17<00:00, 13.22it/s]"
     ]
    },
    {
     "name": "stdout",
     "output_type": "stream",
     "text": [
      "                   all       1795      14205      0.972      0.959      0.987      0.788\n"
     ]
    },
    {
     "name": "stderr",
     "output_type": "stream",
     "text": [
      "\n"
     ]
    },
    {
     "name": "stdout",
     "output_type": "stream",
     "text": [
      "\n",
      "      Epoch    GPU_mem   box_loss   cls_loss   dfl_loss  Instances       Size\n"
     ]
    },
    {
     "name": "stderr",
     "output_type": "stream",
     "text": [
      "     13/100      2.05G     0.9919     0.5955     0.8407         16        704: 100%|██████████| 525/525 [00:57<00:00,  9.06it/s]\n",
      "                 Class     Images  Instances      Box(P          R      mAP50  mAP50-95): 100%|██████████| 225/225 [00:17<00:00, 13.21it/s]"
     ]
    },
    {
     "name": "stdout",
     "output_type": "stream",
     "text": [
      "                   all       1795      14205      0.971      0.954      0.985      0.792\n"
     ]
    },
    {
     "name": "stderr",
     "output_type": "stream",
     "text": [
      "\n"
     ]
    },
    {
     "name": "stdout",
     "output_type": "stream",
     "text": [
      "\n",
      "      Epoch    GPU_mem   box_loss   cls_loss   dfl_loss  Instances       Size\n"
     ]
    },
    {
     "name": "stderr",
     "output_type": "stream",
     "text": [
      "     14/100      2.05G     0.9628     0.5665     0.8352         10        960: 100%|██████████| 525/525 [00:57<00:00,  9.05it/s]\n",
      "                 Class     Images  Instances      Box(P          R      mAP50  mAP50-95): 100%|██████████| 225/225 [00:16<00:00, 13.45it/s]"
     ]
    },
    {
     "name": "stdout",
     "output_type": "stream",
     "text": [
      "                   all       1795      14205      0.986      0.964      0.989      0.794\n"
     ]
    },
    {
     "name": "stderr",
     "output_type": "stream",
     "text": [
      "\n"
     ]
    },
    {
     "name": "stdout",
     "output_type": "stream",
     "text": [
      "\n",
      "      Epoch    GPU_mem   box_loss   cls_loss   dfl_loss  Instances       Size\n"
     ]
    },
    {
     "name": "stderr",
     "output_type": "stream",
     "text": [
      "     15/100      2.05G     0.9419     0.5588     0.8329          3        320: 100%|██████████| 525/525 [00:59<00:00,  8.87it/s]\n",
      "                 Class     Images  Instances      Box(P          R      mAP50  mAP50-95): 100%|██████████| 225/225 [00:16<00:00, 13.49it/s]"
     ]
    },
    {
     "name": "stdout",
     "output_type": "stream",
     "text": [
      "                   all       1795      14205      0.981      0.963      0.988      0.793\n"
     ]
    },
    {
     "name": "stderr",
     "output_type": "stream",
     "text": [
      "\n"
     ]
    },
    {
     "name": "stdout",
     "output_type": "stream",
     "text": [
      "\n",
      "      Epoch    GPU_mem   box_loss   cls_loss   dfl_loss  Instances       Size\n"
     ]
    },
    {
     "name": "stderr",
     "output_type": "stream",
     "text": [
      "     16/100      2.05G     0.9622     0.5769     0.8321          4        608: 100%|██████████| 525/525 [00:58<00:00,  8.93it/s]\n",
      "                 Class     Images  Instances      Box(P          R      mAP50  mAP50-95): 100%|██████████| 225/225 [00:17<00:00, 13.02it/s]"
     ]
    },
    {
     "name": "stdout",
     "output_type": "stream",
     "text": [
      "                   all       1795      14205      0.984      0.966      0.989      0.825\n"
     ]
    },
    {
     "name": "stderr",
     "output_type": "stream",
     "text": [
      "\n"
     ]
    },
    {
     "name": "stdout",
     "output_type": "stream",
     "text": [
      "\n",
      "      Epoch    GPU_mem   box_loss   cls_loss   dfl_loss  Instances       Size\n"
     ]
    },
    {
     "name": "stderr",
     "output_type": "stream",
     "text": [
      "     17/100      2.05G     0.9184     0.5441     0.8285          6        800: 100%|██████████| 525/525 [00:57<00:00,  9.12it/s]\n",
      "                 Class     Images  Instances      Box(P          R      mAP50  mAP50-95): 100%|██████████| 225/225 [00:16<00:00, 13.47it/s]"
     ]
    },
    {
     "name": "stdout",
     "output_type": "stream",
     "text": [
      "                   all       1795      14205       0.98      0.963      0.987      0.803\n"
     ]
    },
    {
     "name": "stderr",
     "output_type": "stream",
     "text": [
      "\n"
     ]
    },
    {
     "name": "stdout",
     "output_type": "stream",
     "text": [
      "\n",
      "      Epoch    GPU_mem   box_loss   cls_loss   dfl_loss  Instances       Size\n"
     ]
    },
    {
     "name": "stderr",
     "output_type": "stream",
     "text": [
      "     18/100      2.05G     0.9501      0.548     0.8264         19        896: 100%|██████████| 525/525 [00:58<00:00,  8.94it/s]\n",
      "                 Class     Images  Instances      Box(P          R      mAP50  mAP50-95): 100%|██████████| 225/225 [00:17<00:00, 12.98it/s]"
     ]
    },
    {
     "name": "stdout",
     "output_type": "stream",
     "text": [
      "                   all       1795      14205      0.981      0.961      0.989      0.767\n"
     ]
    },
    {
     "name": "stderr",
     "output_type": "stream",
     "text": [
      "\n"
     ]
    },
    {
     "name": "stdout",
     "output_type": "stream",
     "text": [
      "\n",
      "      Epoch    GPU_mem   box_loss   cls_loss   dfl_loss  Instances       Size\n"
     ]
    },
    {
     "name": "stderr",
     "output_type": "stream",
     "text": [
      "     19/100      2.05G     0.9059     0.5404     0.8205          0        768: 100%|██████████| 525/525 [00:59<00:00,  8.81it/s]\n",
      "                 Class     Images  Instances      Box(P          R      mAP50  mAP50-95): 100%|██████████| 225/225 [00:17<00:00, 12.76it/s]"
     ]
    },
    {
     "name": "stdout",
     "output_type": "stream",
     "text": [
      "                   all       1795      14205      0.981      0.967      0.989      0.804\n"
     ]
    },
    {
     "name": "stderr",
     "output_type": "stream",
     "text": [
      "\n"
     ]
    },
    {
     "name": "stdout",
     "output_type": "stream",
     "text": [
      "\n",
      "      Epoch    GPU_mem   box_loss   cls_loss   dfl_loss  Instances       Size\n"
     ]
    },
    {
     "name": "stderr",
     "output_type": "stream",
     "text": [
      "     20/100      2.05G     0.8908     0.5208     0.8234          3        480: 100%|██████████| 525/525 [00:59<00:00,  8.78it/s]\n",
      "                 Class     Images  Instances      Box(P          R      mAP50  mAP50-95): 100%|██████████| 225/225 [00:17<00:00, 12.66it/s]"
     ]
    },
    {
     "name": "stdout",
     "output_type": "stream",
     "text": [
      "                   all       1795      14205      0.983      0.969       0.99      0.828\n"
     ]
    },
    {
     "name": "stderr",
     "output_type": "stream",
     "text": [
      "\n"
     ]
    },
    {
     "name": "stdout",
     "output_type": "stream",
     "text": [
      "\n",
      "      Epoch    GPU_mem   box_loss   cls_loss   dfl_loss  Instances       Size\n"
     ]
    },
    {
     "name": "stderr",
     "output_type": "stream",
     "text": [
      "     21/100      2.05G     0.8828     0.5117      0.823         16        512: 100%|██████████| 525/525 [00:58<00:00,  8.90it/s]\n",
      "                 Class     Images  Instances      Box(P          R      mAP50  mAP50-95): 100%|██████████| 225/225 [00:16<00:00, 13.42it/s]"
     ]
    },
    {
     "name": "stdout",
     "output_type": "stream",
     "text": [
      "                   all       1795      14205      0.988      0.968       0.99      0.827\n"
     ]
    },
    {
     "name": "stderr",
     "output_type": "stream",
     "text": [
      "\n"
     ]
    },
    {
     "name": "stdout",
     "output_type": "stream",
     "text": [
      "\n",
      "      Epoch    GPU_mem   box_loss   cls_loss   dfl_loss  Instances       Size\n"
     ]
    },
    {
     "name": "stderr",
     "output_type": "stream",
     "text": [
      "     22/100      2.05G      0.861     0.4923     0.8223         27        704: 100%|██████████| 525/525 [00:59<00:00,  8.89it/s]\n",
      "                 Class     Images  Instances      Box(P          R      mAP50  mAP50-95): 100%|██████████| 225/225 [00:16<00:00, 13.49it/s]"
     ]
    },
    {
     "name": "stdout",
     "output_type": "stream",
     "text": [
      "                   all       1795      14205      0.985       0.97       0.99      0.837\n"
     ]
    },
    {
     "name": "stderr",
     "output_type": "stream",
     "text": [
      "\n"
     ]
    },
    {
     "name": "stdout",
     "output_type": "stream",
     "text": [
      "\n",
      "      Epoch    GPU_mem   box_loss   cls_loss   dfl_loss  Instances       Size\n"
     ]
    },
    {
     "name": "stderr",
     "output_type": "stream",
     "text": [
      "     23/100      2.05G      0.864      0.489     0.8204          4        736: 100%|██████████| 525/525 [00:59<00:00,  8.80it/s]\n",
      "                 Class     Images  Instances      Box(P          R      mAP50  mAP50-95): 100%|██████████| 225/225 [00:16<00:00, 13.56it/s]"
     ]
    },
    {
     "name": "stdout",
     "output_type": "stream",
     "text": [
      "                   all       1795      14205      0.985      0.966       0.99      0.805\n"
     ]
    },
    {
     "name": "stderr",
     "output_type": "stream",
     "text": [
      "\n"
     ]
    },
    {
     "name": "stdout",
     "output_type": "stream",
     "text": [
      "\n",
      "      Epoch    GPU_mem   box_loss   cls_loss   dfl_loss  Instances       Size\n"
     ]
    },
    {
     "name": "stderr",
     "output_type": "stream",
     "text": [
      "     24/100      2.05G     0.8601     0.4876     0.8226          4        864: 100%|██████████| 525/525 [00:59<00:00,  8.88it/s]\n",
      "                 Class     Images  Instances      Box(P          R      mAP50  mAP50-95): 100%|██████████| 225/225 [00:17<00:00, 13.10it/s]"
     ]
    },
    {
     "name": "stdout",
     "output_type": "stream",
     "text": [
      "                   all       1795      14205      0.982      0.967       0.99      0.831\n"
     ]
    },
    {
     "name": "stderr",
     "output_type": "stream",
     "text": [
      "\n"
     ]
    },
    {
     "name": "stdout",
     "output_type": "stream",
     "text": [
      "\n",
      "      Epoch    GPU_mem   box_loss   cls_loss   dfl_loss  Instances       Size\n"
     ]
    },
    {
     "name": "stderr",
     "output_type": "stream",
     "text": [
      "     25/100      2.05G     0.8374     0.4788     0.8167          5        384: 100%|██████████| 525/525 [01:00<00:00,  8.69it/s]\n",
      "                 Class     Images  Instances      Box(P          R      mAP50  mAP50-95): 100%|██████████| 225/225 [00:17<00:00, 12.86it/s]"
     ]
    },
    {
     "name": "stdout",
     "output_type": "stream",
     "text": [
      "                   all       1795      14205      0.988      0.973      0.991      0.853\n"
     ]
    },
    {
     "name": "stderr",
     "output_type": "stream",
     "text": [
      "\n"
     ]
    },
    {
     "name": "stdout",
     "output_type": "stream",
     "text": [
      "\n",
      "      Epoch    GPU_mem   box_loss   cls_loss   dfl_loss  Instances       Size\n"
     ]
    },
    {
     "name": "stderr",
     "output_type": "stream",
     "text": [
      "     26/100      2.05G     0.8435     0.4793     0.8221         19        640: 100%|██████████| 525/525 [00:59<00:00,  8.89it/s]\n",
      "                 Class     Images  Instances      Box(P          R      mAP50  mAP50-95): 100%|██████████| 225/225 [00:17<00:00, 12.78it/s]"
     ]
    },
    {
     "name": "stdout",
     "output_type": "stream",
     "text": [
      "                   all       1795      14205       0.99      0.973      0.991      0.854\n"
     ]
    },
    {
     "name": "stderr",
     "output_type": "stream",
     "text": [
      "\n"
     ]
    },
    {
     "name": "stdout",
     "output_type": "stream",
     "text": [
      "\n",
      "      Epoch    GPU_mem   box_loss   cls_loss   dfl_loss  Instances       Size\n"
     ]
    },
    {
     "name": "stderr",
     "output_type": "stream",
     "text": [
      "     27/100      2.05G     0.8117     0.4679     0.8184          7        640: 100%|██████████| 525/525 [01:00<00:00,  8.64it/s]\n",
      "                 Class     Images  Instances      Box(P          R      mAP50  mAP50-95): 100%|██████████| 225/225 [00:16<00:00, 13.68it/s]"
     ]
    },
    {
     "name": "stdout",
     "output_type": "stream",
     "text": [
      "                   all       1795      14205      0.986      0.972      0.991      0.841\n"
     ]
    },
    {
     "name": "stderr",
     "output_type": "stream",
     "text": [
      "\n"
     ]
    },
    {
     "name": "stdout",
     "output_type": "stream",
     "text": [
      "\n",
      "      Epoch    GPU_mem   box_loss   cls_loss   dfl_loss  Instances       Size\n"
     ]
    },
    {
     "name": "stderr",
     "output_type": "stream",
     "text": [
      "     28/100      2.05G      0.824     0.4648     0.8198         15        608: 100%|██████████| 525/525 [01:01<00:00,  8.59it/s]\n",
      "                 Class     Images  Instances      Box(P          R      mAP50  mAP50-95): 100%|██████████| 225/225 [00:17<00:00, 13.05it/s]"
     ]
    },
    {
     "name": "stdout",
     "output_type": "stream",
     "text": [
      "                   all       1795      14205       0.99      0.975      0.991      0.816\n"
     ]
    },
    {
     "name": "stderr",
     "output_type": "stream",
     "text": [
      "\n"
     ]
    },
    {
     "name": "stdout",
     "output_type": "stream",
     "text": [
      "\n",
      "      Epoch    GPU_mem   box_loss   cls_loss   dfl_loss  Instances       Size\n"
     ]
    },
    {
     "name": "stderr",
     "output_type": "stream",
     "text": [
      "     29/100      2.05G     0.8216     0.4562     0.8178         10        960: 100%|██████████| 525/525 [00:58<00:00,  8.90it/s]\n",
      "                 Class     Images  Instances      Box(P          R      mAP50  mAP50-95): 100%|██████████| 225/225 [00:17<00:00, 13.08it/s]"
     ]
    },
    {
     "name": "stdout",
     "output_type": "stream",
     "text": [
      "                   all       1795      14205      0.991      0.975      0.991      0.832\n"
     ]
    },
    {
     "name": "stderr",
     "output_type": "stream",
     "text": [
      "\n"
     ]
    },
    {
     "name": "stdout",
     "output_type": "stream",
     "text": [
      "\n",
      "      Epoch    GPU_mem   box_loss   cls_loss   dfl_loss  Instances       Size\n"
     ]
    },
    {
     "name": "stderr",
     "output_type": "stream",
     "text": [
      "     30/100      2.05G     0.8308      0.464     0.8155          3        448: 100%|██████████| 525/525 [00:59<00:00,  8.87it/s]\n",
      "                 Class     Images  Instances      Box(P          R      mAP50  mAP50-95): 100%|██████████| 225/225 [00:17<00:00, 13.06it/s]"
     ]
    },
    {
     "name": "stdout",
     "output_type": "stream",
     "text": [
      "                   all       1795      14205      0.987      0.974       0.99      0.839\n"
     ]
    },
    {
     "name": "stderr",
     "output_type": "stream",
     "text": [
      "\n"
     ]
    },
    {
     "name": "stdout",
     "output_type": "stream",
     "text": [
      "\n",
      "      Epoch    GPU_mem   box_loss   cls_loss   dfl_loss  Instances       Size\n"
     ]
    },
    {
     "name": "stderr",
     "output_type": "stream",
     "text": [
      "     31/100      2.05G     0.7995     0.4486     0.8114         15        896: 100%|██████████| 525/525 [00:58<00:00,  8.96it/s]\n",
      "                 Class     Images  Instances      Box(P          R      mAP50  mAP50-95): 100%|██████████| 225/225 [00:17<00:00, 13.07it/s]"
     ]
    },
    {
     "name": "stdout",
     "output_type": "stream",
     "text": [
      "                   all       1795      14205       0.99      0.976      0.991      0.845\n",
      "\u001b[34m\u001b[1mEarlyStopping: \u001b[0mTraining stopped early as no improvement observed in last 5 epochs. Best results observed at epoch 26, best model saved as best.pt.\n",
      "To update EarlyStopping(patience=5) pass a new patience value, i.e. `patience=300` or use `patience=0` to disable EarlyStopping.\n"
     ]
    },
    {
     "name": "stderr",
     "output_type": "stream",
     "text": [
      "\n"
     ]
    },
    {
     "name": "stdout",
     "output_type": "stream",
     "text": [
      "\n",
      "31 epochs completed in 0.669 hours.\n",
      "Optimizer stripped from C:\\Users\\mateu\\Downloads\\UA\\Cadeiras\\Seminrio\\Object_Detection\\runs\\detect\\train\\weights\\last.pt, 5.5MB\n",
      "Optimizer stripped from C:\\Users\\mateu\\Downloads\\UA\\Cadeiras\\Seminrio\\Object_Detection\\runs\\detect\\train\\weights\\best.pt, 5.5MB\n",
      "\n",
      "Validating C:\\Users\\mateu\\Downloads\\UA\\Cadeiras\\Seminrio\\Object_Detection\\runs\\detect\\train\\weights\\best.pt...\n",
      "Ultralytics 8.3.133  Python-3.12.9 torch-2.6.0+cu126 CUDA:0 (NVIDIA GeForce RTX 3060 Laptop GPU, 6144MiB)\n",
      "YOLO11n summary (fused): 100 layers, 2,583,127 parameters, 0 gradients, 6.3 GFLOPs\n"
     ]
    },
    {
     "name": "stderr",
     "output_type": "stream",
     "text": [
      "                 Class     Images  Instances      Box(P          R      mAP50  mAP50-95): 100%|██████████| 225/225 [00:24<00:00,  9.11it/s]\n"
     ]
    },
    {
     "name": "stdout",
     "output_type": "stream",
     "text": [
      "                   all       1795      14205      0.984      0.974      0.991      0.799\n",
      "                  blue       1516       3125      0.981      0.961      0.979        0.8\n",
      "                 green       1506       2950      0.985      0.964      0.992      0.801\n",
      "                orange       1484       2863      0.984      0.987      0.994      0.809\n",
      "                   red       1227       2397      0.985      0.985      0.994      0.804\n",
      "                yellow       1447       2870      0.986      0.975      0.994      0.781\n",
      "Speed: 0.2ms preprocess, 6.5ms inference, 0.0ms loss, 1.4ms postprocess per image\n",
      "Results saved to \u001b[1mC:\\Users\\mateu\\Downloads\\UA\\Cadeiras\\Seminrio\\Object_Detection\\runs\\detect\\train\u001b[0m\n"
     ]
    }
   ],
   "source": [
    "yolo = YOLO(verbose=False)\n",
    "\n",
    "results = yolo.train(\n",
    "    data=\"../../data/dataset.yaml\",\n",
    "    epochs=100,\n",
    "    batch=4,\n",
    "    device=\"cuda\" if torch.cuda.is_available() else \"cpu\",\n",
    "    multi_scale=True,\n",
    "    patience=5,\n",
    "    lr0=1e-4,\n",
    "    augment=True,\n",
    ")"
   ]
  },
  {
   "cell_type": "code",
   "execution_count": 9,
   "metadata": {},
   "outputs": [
    {
     "name": "stderr",
     "output_type": "stream",
     "text": [
      "Processing train: 100%|██████████| 2097/2097 [00:00<00:00, 2167.07it/s]\n",
      "Processing valid: 0it [00:00, ?it/s]\n",
      "Processing test: 100%|██████████| 1673/1673 [00:13<00:00, 127.38it/s]\n"
     ]
    }
   ],
   "source": [
    "def yolo_to_coco_bbox(bbox, img_w, img_h):\n",
    "    # YOLO: [x_center, y_center, width, height] normalized\n",
    "    # COCO: [x_min, y_min, width, height] absolute\n",
    "    x_c, y_c, w, h = bbox\n",
    "    x_c *= img_w\n",
    "    y_c *= img_h\n",
    "    w *= img_w\n",
    "    h *= img_h\n",
    "    x_min = x_c - w / 2\n",
    "    y_min = y_c - h / 2\n",
    "    return [x_min, y_min, w, h]\n",
    "\n",
    "def convert_split_to_coco(split_dir, split):\n",
    "    images_dir = split_dir / \"images\" / split\n",
    "    labels_dir = split_dir / \"labels\" / split\n",
    "    image_files = list(images_dir.glob(\"*.jpg\")) + list(images_dir.glob(\"*.png\"))\n",
    "    classes = {\n",
    "        \"blue\": 0,\n",
    "        \"green\": 1,\n",
    "        \"orange\": 2,\n",
    "        \"red\": 3,\n",
    "        \"yellow\": 4,\n",
    "    }\n",
    "    categories = [\n",
    "        {\"id\": cid, \"name\": name, \"supercategory\": \"none\"}\n",
    "        for name, cid in classes.items()\n",
    "    ]\n",
    "    images = []\n",
    "    annotations = []\n",
    "    ann_id = 1\n",
    "\n",
    "    for img_id, img_path in enumerate(tqdm(image_files, desc=f\"Processing {split}\")):\n",
    "        try:\n",
    "            with Image.open(img_path) as im:\n",
    "                width, height = im.size\n",
    "        except Exception as e:\n",
    "            print(f\"Could not open {img_path}: {e}\")\n",
    "            continue\n",
    "\n",
    "        images.append({\n",
    "            \"id\": img_id,\n",
    "            \"file_name\": f\"../../split_data/images/{split}/{img_path.name}\",\n",
    "            \"width\": width,\n",
    "            \"height\": height,\n",
    "        })\n",
    "\n",
    "        label_path = labels_dir / (img_path.stem + \".txt\")\n",
    "        if not label_path.exists():\n",
    "            continue\n",
    "\n",
    "        with open(label_path, \"r\") as f:\n",
    "            for line in f:\n",
    "                parts = line.strip().split()\n",
    "                if len(parts) < 5:\n",
    "                    continue\n",
    "                class_id = int(float(parts[0]))\n",
    "                bbox = list(map(float, parts[1:5]))\n",
    "                coco_bbox = yolo_to_coco_bbox(bbox, width, height)\n",
    "                annotations.append({\n",
    "                    \"id\": ann_id,\n",
    "                    \"image_id\": img_id,\n",
    "                    \"category_id\": class_id,\n",
    "                    \"bbox\": coco_bbox,\n",
    "                    \"area\": coco_bbox[2] * coco_bbox[3],\n",
    "                    \"iscrowd\": 0,\n",
    "                    \"segmentation\": [],\n",
    "                })\n",
    "                ann_id += 1\n",
    "\n",
    "    coco_dict = {\n",
    "        \"images\": images,\n",
    "        \"annotations\": annotations,\n",
    "        \"categories\": categories,\n",
    "    }\n",
    "    return coco_dict\n",
    "\n",
    "split_dir = pathlib.Path(\"../../data/split_data\")\n",
    "output_base = pathlib.Path(\"../../data/coco_like\")\n",
    "output_base.mkdir(exist_ok=True)\n",
    "\n",
    "for split in [\"train\", \"valid\", \"test\"]:\n",
    "    coco_dict = convert_split_to_coco(split_dir, split)\n",
    "    out_dir = output_base / split\n",
    "    out_dir.mkdir(parents=True, exist_ok=True)\n",
    "    with open(out_dir / \"_annotations.coco.json\", \"w\") as f:\n",
    "        json.dump(coco_dict, f, indent=2)"
   ]
  },
  {
   "cell_type": "code",
   "execution_count": 6,
   "metadata": {},
   "outputs": [
    {
     "name": "stdout",
     "output_type": "stream",
     "text": [
      "Loading pretrain weights\n"
     ]
    },
    {
     "name": "stderr",
     "output_type": "stream",
     "text": [
      "num_classes mismatch: model has 90 classes, but your dataset has 5 classes\n",
      "reinitializing your detection head with 5 classes.\n"
     ]
    },
    {
     "ename": "FailedPreconditionError",
     "evalue": "output is not a directory",
     "output_type": "error",
     "traceback": [
      "\u001b[31m---------------------------------------------------------------------------\u001b[39m",
      "\u001b[31mFailedPreconditionError\u001b[39m                   Traceback (most recent call last)",
      "\u001b[36mCell\u001b[39m\u001b[36m \u001b[39m\u001b[32mIn[6]\u001b[39m\u001b[32m, line 3\u001b[39m\n\u001b[32m      1\u001b[39m rfdetr = RFDETRBase()\n\u001b[32m----> \u001b[39m\u001b[32m3\u001b[39m \u001b[43mrfdetr\u001b[49m\u001b[43m.\u001b[49m\u001b[43mtrain\u001b[49m\u001b[43m(\u001b[49m\n\u001b[32m      4\u001b[39m \u001b[43m    \u001b[49m\u001b[43mdataset_dir\u001b[49m\u001b[43m=\u001b[49m\u001b[33;43m\"\u001b[39;49m\u001b[33;43m../../data/coco_like\u001b[39;49m\u001b[33;43m\"\u001b[39;49m\u001b[43m,\u001b[49m\n\u001b[32m      5\u001b[39m \u001b[43m    \u001b[49m\u001b[43mepochs\u001b[49m\u001b[43m=\u001b[49m\u001b[32;43m10\u001b[39;49m\u001b[43m,\u001b[49m\n\u001b[32m      6\u001b[39m \u001b[43m    \u001b[49m\u001b[43mbatch_size\u001b[49m\u001b[43m=\u001b[49m\u001b[32;43m4\u001b[39;49m\u001b[43m,\u001b[49m\n\u001b[32m      7\u001b[39m \u001b[43m    \u001b[49m\u001b[43mgrad_accum_steps\u001b[49m\u001b[43m=\u001b[49m\u001b[32;43m4\u001b[39;49m\u001b[43m,\u001b[49m\n\u001b[32m      8\u001b[39m \u001b[43m    \u001b[49m\u001b[43mlr\u001b[49m\u001b[43m=\u001b[49m\u001b[32;43m1e-4\u001b[39;49m\u001b[43m,\u001b[49m\n\u001b[32m      9\u001b[39m \u001b[43m    \u001b[49m\u001b[43mearly_stopping\u001b[49m\u001b[43m=\u001b[49m\u001b[38;5;28;43;01mTrue\u001b[39;49;00m\u001b[43m,\u001b[49m\n\u001b[32m     10\u001b[39m \u001b[43m    \u001b[49m\u001b[43mearly_stopping_patience\u001b[49m\u001b[43m=\u001b[49m\u001b[32;43m5\u001b[39;49m\u001b[43m,\u001b[49m\n\u001b[32m     11\u001b[39m \u001b[43m    \u001b[49m\u001b[43mresume\u001b[49m\u001b[43m=\u001b[49m\u001b[33;43m\"\u001b[39;49m\u001b[33;43m./checkpoint.pth\u001b[39;49m\u001b[33;43m\"\u001b[39;49m\u001b[43m,\u001b[49m\n\u001b[32m     12\u001b[39m \u001b[43m)\u001b[49m\n",
      "\u001b[36mFile \u001b[39m\u001b[32mc:\\Users\\mateu\\miniconda3\\Lib\\site-packages\\rfdetr\\detr.py:44\u001b[39m, in \u001b[36mRFDETR.train\u001b[39m\u001b[34m(self, **kwargs)\u001b[39m\n\u001b[32m     42\u001b[39m \u001b[38;5;28;01mdef\u001b[39;00m \u001b[34mtrain\u001b[39m(\u001b[38;5;28mself\u001b[39m, **kwargs):\n\u001b[32m     43\u001b[39m     config = \u001b[38;5;28mself\u001b[39m.get_train_config(**kwargs)\n\u001b[32m---> \u001b[39m\u001b[32m44\u001b[39m     \u001b[38;5;28;43mself\u001b[39;49m\u001b[43m.\u001b[49m\u001b[43mtrain_from_config\u001b[49m\u001b[43m(\u001b[49m\u001b[43mconfig\u001b[49m\u001b[43m,\u001b[49m\u001b[43m \u001b[49m\u001b[43m*\u001b[49m\u001b[43m*\u001b[49m\u001b[43mkwargs\u001b[49m\u001b[43m)\u001b[49m\n",
      "\u001b[36mFile \u001b[39m\u001b[32mc:\\Users\\mateu\\miniconda3\\Lib\\site-packages\\rfdetr\\detr.py:88\u001b[39m, in \u001b[36mRFDETR.train_from_config\u001b[39m\u001b[34m(self, config, **kwargs)\u001b[39m\n\u001b[32m     85\u001b[39m \u001b[38;5;28mself\u001b[39m.callbacks[\u001b[33m\"\u001b[39m\u001b[33mon_train_end\u001b[39m\u001b[33m\"\u001b[39m].append(metrics_plot_sink.save)\n\u001b[32m     87\u001b[39m \u001b[38;5;28;01mif\u001b[39;00m config.tensorboard:\n\u001b[32m---> \u001b[39m\u001b[32m88\u001b[39m     metrics_tensor_board_sink = \u001b[43mMetricsTensorBoardSink\u001b[49m\u001b[43m(\u001b[49m\u001b[43moutput_dir\u001b[49m\u001b[43m=\u001b[49m\u001b[43mconfig\u001b[49m\u001b[43m.\u001b[49m\u001b[43moutput_dir\u001b[49m\u001b[43m)\u001b[49m\n\u001b[32m     89\u001b[39m     \u001b[38;5;28mself\u001b[39m.callbacks[\u001b[33m\"\u001b[39m\u001b[33mon_fit_epoch_end\u001b[39m\u001b[33m\"\u001b[39m].append(metrics_tensor_board_sink.update)\n\u001b[32m     90\u001b[39m     \u001b[38;5;28mself\u001b[39m.callbacks[\u001b[33m\"\u001b[39m\u001b[33mon_train_end\u001b[39m\u001b[33m\"\u001b[39m].append(metrics_tensor_board_sink.close)\n",
      "\u001b[36mFile \u001b[39m\u001b[32mc:\\Users\\mateu\\miniconda3\\Lib\\site-packages\\rfdetr\\util\\metrics.py:127\u001b[39m, in \u001b[36mMetricsTensorBoardSink.__init__\u001b[39m\u001b[34m(self, output_dir)\u001b[39m\n\u001b[32m    125\u001b[39m \u001b[38;5;28;01mdef\u001b[39;00m \u001b[34m__init__\u001b[39m(\u001b[38;5;28mself\u001b[39m, output_dir: \u001b[38;5;28mstr\u001b[39m):\n\u001b[32m    126\u001b[39m     \u001b[38;5;28;01mif\u001b[39;00m SummaryWriter:\n\u001b[32m--> \u001b[39m\u001b[32m127\u001b[39m         \u001b[38;5;28mself\u001b[39m.writer = \u001b[43mSummaryWriter\u001b[49m\u001b[43m(\u001b[49m\u001b[43mlog_dir\u001b[49m\u001b[43m=\u001b[49m\u001b[43moutput_dir\u001b[49m\u001b[43m)\u001b[49m\n\u001b[32m    128\u001b[39m         \u001b[38;5;28mprint\u001b[39m(\u001b[33mf\u001b[39m\u001b[33m\"\u001b[39m\u001b[33mTensorBoard logging initialized. To monitor logs, use \u001b[39m\u001b[33m'\u001b[39m\u001b[33mtensorboard --logdir \u001b[39m\u001b[38;5;132;01m{\u001b[39;00moutput_dir\u001b[38;5;132;01m}\u001b[39;00m\u001b[33m'\u001b[39m\u001b[33m and open http://localhost:6006/ in browser.\u001b[39m\u001b[33m\"\u001b[39m)\n\u001b[32m    129\u001b[39m     \u001b[38;5;28;01melse\u001b[39;00m:\n",
      "\u001b[36mFile \u001b[39m\u001b[32mc:\\Users\\mateu\\miniconda3\\Lib\\site-packages\\torch\\utils\\tensorboard\\writer.py:250\u001b[39m, in \u001b[36mSummaryWriter.__init__\u001b[39m\u001b[34m(self, log_dir, comment, purge_step, max_queue, flush_secs, filename_suffix)\u001b[39m\n\u001b[32m    247\u001b[39m \u001b[38;5;66;03m# Initialize the file writers, but they can be cleared out on close\u001b[39;00m\n\u001b[32m    248\u001b[39m \u001b[38;5;66;03m# and recreated later as needed.\u001b[39;00m\n\u001b[32m    249\u001b[39m \u001b[38;5;28mself\u001b[39m.file_writer = \u001b[38;5;28mself\u001b[39m.all_writers = \u001b[38;5;28;01mNone\u001b[39;00m\n\u001b[32m--> \u001b[39m\u001b[32m250\u001b[39m \u001b[38;5;28;43mself\u001b[39;49m\u001b[43m.\u001b[49m\u001b[43m_get_file_writer\u001b[49m\u001b[43m(\u001b[49m\u001b[43m)\u001b[49m\n\u001b[32m    252\u001b[39m \u001b[38;5;66;03m# Create default bins for histograms, see generate_testdata.py in tensorflow/tensorboard\u001b[39;00m\n\u001b[32m    253\u001b[39m v = \u001b[32m1e-12\u001b[39m\n",
      "\u001b[36mFile \u001b[39m\u001b[32mc:\\Users\\mateu\\miniconda3\\Lib\\site-packages\\torch\\utils\\tensorboard\\writer.py:265\u001b[39m, in \u001b[36mSummaryWriter._get_file_writer\u001b[39m\u001b[34m(self)\u001b[39m\n\u001b[32m    263\u001b[39m \u001b[38;5;250m\u001b[39m\u001b[33;03m\"\"\"Return the default FileWriter instance. Recreates it if closed.\"\"\"\u001b[39;00m\n\u001b[32m    264\u001b[39m \u001b[38;5;28;01mif\u001b[39;00m \u001b[38;5;28mself\u001b[39m.all_writers \u001b[38;5;129;01mis\u001b[39;00m \u001b[38;5;28;01mNone\u001b[39;00m \u001b[38;5;129;01mor\u001b[39;00m \u001b[38;5;28mself\u001b[39m.file_writer \u001b[38;5;129;01mis\u001b[39;00m \u001b[38;5;28;01mNone\u001b[39;00m:\n\u001b[32m--> \u001b[39m\u001b[32m265\u001b[39m     \u001b[38;5;28mself\u001b[39m.file_writer = \u001b[43mFileWriter\u001b[49m\u001b[43m(\u001b[49m\n\u001b[32m    266\u001b[39m \u001b[43m        \u001b[49m\u001b[38;5;28;43mself\u001b[39;49m\u001b[43m.\u001b[49m\u001b[43mlog_dir\u001b[49m\u001b[43m,\u001b[49m\u001b[43m \u001b[49m\u001b[38;5;28;43mself\u001b[39;49m\u001b[43m.\u001b[49m\u001b[43mmax_queue\u001b[49m\u001b[43m,\u001b[49m\u001b[43m \u001b[49m\u001b[38;5;28;43mself\u001b[39;49m\u001b[43m.\u001b[49m\u001b[43mflush_secs\u001b[49m\u001b[43m,\u001b[49m\u001b[43m \u001b[49m\u001b[38;5;28;43mself\u001b[39;49m\u001b[43m.\u001b[49m\u001b[43mfilename_suffix\u001b[49m\n\u001b[32m    267\u001b[39m \u001b[43m    \u001b[49m\u001b[43m)\u001b[49m\n\u001b[32m    268\u001b[39m     \u001b[38;5;28mself\u001b[39m.all_writers = {\u001b[38;5;28mself\u001b[39m.file_writer.get_logdir(): \u001b[38;5;28mself\u001b[39m.file_writer}\n\u001b[32m    269\u001b[39m     \u001b[38;5;28;01mif\u001b[39;00m \u001b[38;5;28mself\u001b[39m.purge_step \u001b[38;5;129;01mis\u001b[39;00m \u001b[38;5;129;01mnot\u001b[39;00m \u001b[38;5;28;01mNone\u001b[39;00m:\n",
      "\u001b[36mFile \u001b[39m\u001b[32mc:\\Users\\mateu\\miniconda3\\Lib\\site-packages\\torch\\utils\\tensorboard\\writer.py:76\u001b[39m, in \u001b[36mFileWriter.__init__\u001b[39m\u001b[34m(self, log_dir, max_queue, flush_secs, filename_suffix)\u001b[39m\n\u001b[32m     71\u001b[39m \u001b[38;5;66;03m# Sometimes PosixPath is passed in and we need to coerce it to\u001b[39;00m\n\u001b[32m     72\u001b[39m \u001b[38;5;66;03m# a string in all cases\u001b[39;00m\n\u001b[32m     73\u001b[39m \u001b[38;5;66;03m# TODO: See if we can remove this in the future if we are\u001b[39;00m\n\u001b[32m     74\u001b[39m \u001b[38;5;66;03m# actually the ones passing in a PosixPath\u001b[39;00m\n\u001b[32m     75\u001b[39m log_dir = \u001b[38;5;28mstr\u001b[39m(log_dir)\n\u001b[32m---> \u001b[39m\u001b[32m76\u001b[39m \u001b[38;5;28mself\u001b[39m.event_writer = \u001b[43mEventFileWriter\u001b[49m\u001b[43m(\u001b[49m\n\u001b[32m     77\u001b[39m \u001b[43m    \u001b[49m\u001b[43mlog_dir\u001b[49m\u001b[43m,\u001b[49m\u001b[43m \u001b[49m\u001b[43mmax_queue\u001b[49m\u001b[43m,\u001b[49m\u001b[43m \u001b[49m\u001b[43mflush_secs\u001b[49m\u001b[43m,\u001b[49m\u001b[43m \u001b[49m\u001b[43mfilename_suffix\u001b[49m\n\u001b[32m     78\u001b[39m \u001b[43m\u001b[49m\u001b[43m)\u001b[49m\n",
      "\u001b[36mFile \u001b[39m\u001b[32mc:\\Users\\mateu\\miniconda3\\Lib\\site-packages\\tensorboard\\summary\\writer\\event_file_writer.py:72\u001b[39m, in \u001b[36mEventFileWriter.__init__\u001b[39m\u001b[34m(self, logdir, max_queue_size, flush_secs, filename_suffix)\u001b[39m\n\u001b[32m     57\u001b[39m \u001b[38;5;250m\u001b[39m\u001b[33;03m\"\"\"Creates a `EventFileWriter` and an event file to write to.\u001b[39;00m\n\u001b[32m     58\u001b[39m \n\u001b[32m     59\u001b[39m \u001b[33;03mOn construction the summary writer creates a new event file in `logdir`.\u001b[39;00m\n\u001b[32m   (...)\u001b[39m\u001b[32m     69\u001b[39m \u001b[33;03m    pending events and summaries to disk.\u001b[39;00m\n\u001b[32m     70\u001b[39m \u001b[33;03m\"\"\"\u001b[39;00m\n\u001b[32m     71\u001b[39m \u001b[38;5;28mself\u001b[39m._logdir = logdir\n\u001b[32m---> \u001b[39m\u001b[32m72\u001b[39m \u001b[43mtf\u001b[49m\u001b[43m.\u001b[49m\u001b[43mio\u001b[49m\u001b[43m.\u001b[49m\u001b[43mgfile\u001b[49m\u001b[43m.\u001b[49m\u001b[43mmakedirs\u001b[49m\u001b[43m(\u001b[49m\u001b[43mlogdir\u001b[49m\u001b[43m)\u001b[49m\n\u001b[32m     73\u001b[39m \u001b[38;5;28mself\u001b[39m._file_name = (\n\u001b[32m     74\u001b[39m     os.path.join(\n\u001b[32m     75\u001b[39m         logdir,\n\u001b[32m   (...)\u001b[39m\u001b[32m     84\u001b[39m     + filename_suffix\n\u001b[32m     85\u001b[39m )  \u001b[38;5;66;03m# noqa E128\u001b[39;00m\n\u001b[32m     86\u001b[39m \u001b[38;5;28mself\u001b[39m._general_file_writer = tf.io.gfile.GFile(\u001b[38;5;28mself\u001b[39m._file_name, \u001b[33m\"\u001b[39m\u001b[33mwb\u001b[39m\u001b[33m\"\u001b[39m)\n",
      "\u001b[36mFile \u001b[39m\u001b[32mc:\\Users\\mateu\\miniconda3\\Lib\\site-packages\\tensorflow\\python\\lib\\io\\file_io.py:513\u001b[39m, in \u001b[36mrecursive_create_dir_v2\u001b[39m\u001b[34m(path)\u001b[39m\n\u001b[32m    501\u001b[39m \u001b[38;5;129m@tf_export\u001b[39m(\u001b[33m\"\u001b[39m\u001b[33mio.gfile.makedirs\u001b[39m\u001b[33m\"\u001b[39m)\n\u001b[32m    502\u001b[39m \u001b[38;5;28;01mdef\u001b[39;00m \u001b[34mrecursive_create_dir_v2\u001b[39m(path):\n\u001b[32m    503\u001b[39m \u001b[38;5;250m  \u001b[39m\u001b[33;03m\"\"\"Creates a directory and all parent/intermediate directories.\u001b[39;00m\n\u001b[32m    504\u001b[39m \n\u001b[32m    505\u001b[39m \u001b[33;03m  It succeeds if path already exists and is writable.\u001b[39;00m\n\u001b[32m   (...)\u001b[39m\u001b[32m    511\u001b[39m \u001b[33;03m    errors.OpError: If the operation fails.\u001b[39;00m\n\u001b[32m    512\u001b[39m \u001b[33;03m  \"\"\"\u001b[39;00m\n\u001b[32m--> \u001b[39m\u001b[32m513\u001b[39m   \u001b[43m_pywrap_file_io\u001b[49m\u001b[43m.\u001b[49m\u001b[43mRecursivelyCreateDir\u001b[49m\u001b[43m(\u001b[49m\u001b[43mcompat\u001b[49m\u001b[43m.\u001b[49m\u001b[43mpath_to_bytes\u001b[49m\u001b[43m(\u001b[49m\u001b[43mpath\u001b[49m\u001b[43m)\u001b[49m\u001b[43m)\u001b[49m\n",
      "\u001b[31mFailedPreconditionError\u001b[39m: output is not a directory"
     ]
    }
   ],
   "source": [
    "rfdetr = RFDETRBase()\n",
    "\n",
    "rfdetr.train(\n",
    "    dataset_dir=\"../../data/coco_like\",\n",
    "    epochs=10,\n",
    "    batch_size=4,\n",
    "    grad_accum_steps=4,\n",
    "    lr=1e-4,\n",
    "    early_stopping=True,\n",
    "    early_stopping_patience=5,\n",
    "    resume=\"./checkpoint.pth\",\n",
    ")"
   ]
  }
 ],
 "metadata": {
  "kernelspec": {
   "display_name": "base",
   "language": "python",
   "name": "python3"
  },
  "language_info": {
   "codemirror_mode": {
    "name": "ipython",
    "version": 3
   },
   "file_extension": ".py",
   "mimetype": "text/x-python",
   "name": "python",
   "nbconvert_exporter": "python",
   "pygments_lexer": "ipython3",
   "version": "3.12.9"
  }
 },
 "nbformat": 4,
 "nbformat_minor": 2
}
