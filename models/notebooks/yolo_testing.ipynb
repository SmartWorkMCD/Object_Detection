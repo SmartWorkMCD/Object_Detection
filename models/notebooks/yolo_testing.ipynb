{
 "cells": [
  {
   "cell_type": "markdown",
   "id": "a6ee912c",
   "metadata": {},
   "source": [
    "# **Object Detection - Models Testing - YOLO**\n",
    "\n",
    "---"
   ]
  },
  {
   "cell_type": "code",
   "execution_count": 7,
   "id": "97c38dd9",
   "metadata": {},
   "outputs": [],
   "source": [
    "from ultralytics import YOLO"
   ]
  },
  {
   "cell_type": "code",
   "execution_count": 8,
   "id": "25a4fd81",
   "metadata": {},
   "outputs": [
    {
     "name": "stdout",
     "output_type": "stream",
     "text": [
      "Ultralytics 8.3.133  Python-3.12.9 torch-2.6.0+cu126 CUDA:0 (NVIDIA GeForce RTX 3060 Laptop GPU, 6144MiB)\n",
      "YOLO11n summary (fused): 100 layers, 2,583,127 parameters, 0 gradients, 6.3 GFLOPs\n",
      "\u001b[34m\u001b[1mval: \u001b[0mFast image access  (ping: 0.00.0 ms, read: 78.7114.7 MB/s, size: 83.1 KB)\n"
     ]
    },
    {
     "name": "stderr",
     "output_type": "stream",
     "text": [
      "\u001b[34m\u001b[1mval: \u001b[0mScanning C:\\Users\\mateu\\Downloads\\UA\\Cadeiras\\Seminário\\Object_Detection\\data\\split_data\\labels\\test... 676 images, 0 backgrounds, 0 corrupt: 100%|██████████| 676/676 [00:00<00:00, 880.54it/s]"
     ]
    },
    {
     "name": "stdout",
     "output_type": "stream",
     "text": [
      "\u001b[34m\u001b[1mval: \u001b[0mNew cache created: C:\\Users\\mateu\\Downloads\\UA\\Cadeiras\\Seminrio\\Object_Detection\\data\\split_data\\labels\\test.cache\n"
     ]
    },
    {
     "name": "stderr",
     "output_type": "stream",
     "text": [
      "\n",
      "                 Class     Images  Instances      Box(P          R      mAP50  mAP50-95): 100%|██████████| 43/43 [00:11<00:00,  3.67it/s]\n"
     ]
    },
    {
     "name": "stdout",
     "output_type": "stream",
     "text": [
      "                   all        676       6754      0.991      0.989      0.993      0.813\n",
      "                  blue        676       1352      0.997      0.997      0.995      0.849\n",
      "                 green        676       1352      0.992      0.973      0.993      0.791\n",
      "                orange        676       1352      0.982      0.993      0.993      0.812\n",
      "                   red        676       1352      0.996      0.992      0.994       0.82\n",
      "                yellow        673       1346      0.986      0.991      0.992      0.791\n",
      "Speed: 0.3ms preprocess, 6.1ms inference, 0.0ms loss, 2.8ms postprocess per image\n",
      "Results saved to \u001b[1mC:\\Users\\mateu\\Downloads\\UA\\Cadeiras\\Seminrio\\Object_Detection\\runs\\detect\\val\u001b[0m\n"
     ]
    }
   ],
   "source": [
    "yolo = YOLO(\"../../ultralytics/runs/detect/train/weights/best.pt\")\n",
    "results = yolo.val(data=\"../../data/dataset.yaml\", split=\"test\", save=True)"
   ]
  },
  {
   "cell_type": "code",
   "execution_count": 10,
   "id": "82ec57b6",
   "metadata": {},
   "outputs": [
    {
     "name": "stdout",
     "output_type": "stream",
     "text": [
      "\n",
      "image 1/1 c:\\Users\\mateu\\Downloads\\UA\\Cadeiras\\Seminrio\\Object_Detection\\models\\notebooks\\..\\..\\data\\test_image.jpg: 480x640 2 blues, 2 greens, 2 oranges, 2 reds, 2 yellows, 61.7ms\n",
      "Speed: 3.2ms preprocess, 61.7ms inference, 3.5ms postprocess per image at shape (1, 3, 480, 640)\n",
      "Results:\n",
      "ultralytics.engine.results.Results object with attributes:\n",
      "\n",
      "boxes: ultralytics.engine.results.Boxes object\n",
      "keypoints: None\n",
      "masks: None\n",
      "names: {0: 'blue', 1: 'green', 2: 'orange', 3: 'red', 4: 'yellow'}\n",
      "obb: None\n",
      "orig_img: array([[[26,  7,  2],\n",
      "        [26,  7,  2],\n",
      "        [26,  7,  2],\n",
      "        ...,\n",
      "        [ 2,  3,  1],\n",
      "        [ 2,  3,  1],\n",
      "        [ 2,  3,  1]],\n",
      "\n",
      "       [[26,  7,  2],\n",
      "        [26,  7,  2],\n",
      "        [26,  7,  2],\n",
      "        ...,\n",
      "        [ 2,  3,  1],\n",
      "        [ 2,  3,  1],\n",
      "        [ 2,  3,  1]],\n",
      "\n",
      "       [[26,  7,  2],\n",
      "        [26,  7,  2],\n",
      "        [26,  7,  2],\n",
      "        ...,\n",
      "        [ 2,  3,  1],\n",
      "        [ 2,  3,  1],\n",
      "        [ 2,  3,  1]],\n",
      "\n",
      "       ...,\n",
      "\n",
      "       [[59, 26, 10],\n",
      "        [59, 26, 10],\n",
      "        [59, 26, 10],\n",
      "        ...,\n",
      "        [ 1,  2,  0],\n",
      "        [ 1,  2,  0],\n",
      "        [ 1,  2,  0]],\n",
      "\n",
      "       [[59, 26, 10],\n",
      "        [59, 26, 10],\n",
      "        [59, 26, 10],\n",
      "        ...,\n",
      "        [ 1,  2,  0],\n",
      "        [ 1,  2,  0],\n",
      "        [ 1,  2,  0]],\n",
      "\n",
      "       [[59, 26, 10],\n",
      "        [59, 26, 10],\n",
      "        [59, 26, 10],\n",
      "        ...,\n",
      "        [ 1,  2,  0],\n",
      "        [ 1,  2,  0],\n",
      "        [ 1,  2,  0]]], dtype=uint8)\n",
      "orig_shape: (480, 640)\n",
      "path: 'c:\\\\Users\\\\mateu\\\\Downloads\\\\UA\\\\Cadeiras\\\\Seminário\\\\Object_Detection\\\\models\\\\notebooks\\\\..\\\\..\\\\data\\\\test_image.jpg'\n",
      "probs: None\n",
      "save_dir: 'C:\\\\Users\\\\mateu\\\\Downloads\\\\UA\\\\Cadeiras\\\\Seminário\\\\Object_Detection\\\\runs\\\\detect\\\\predict'\n",
      "speed: {'preprocess': 3.216199999769742, 'inference': 61.71080000058282, 'postprocess': 3.530500000124448}\n"
     ]
    }
   ],
   "source": [
    "test_image_path = \"../../data/test_image.jpg\"\n",
    "results = yolo(test_image_path)[0]\n",
    "print(\"Results:\")\n",
    "print(results)"
   ]
  },
  {
   "cell_type": "code",
   "execution_count": 11,
   "id": "7d346ded",
   "metadata": {},
   "outputs": [
    {
     "data": {
      "text/plain": [
       "array([[     336.47,      309.98,      352.69,      330.94],\n",
       "       [     264.32,      252.07,      287.61,       269.4],\n",
       "       [     304.94,      304.72,      322.35,      321.66],\n",
       "       [     351.28,      275.17,      368.88,      296.81],\n",
       "       [     272.59,      270.54,      290.73,      287.82],\n",
       "       [     293.45,      330.93,      316.26,      348.86],\n",
       "       [      335.2,      326.01,      351.55,      343.43],\n",
       "       [     349.18,         245,      367.38,      262.58],\n",
       "       [     300.21,      272.37,         323,       288.5],\n",
       "       [     322.57,      297.82,      343.85,      315.52]], dtype=float32)"
      ]
     },
     "execution_count": 11,
     "metadata": {},
     "output_type": "execute_result"
    }
   ],
   "source": [
    "results.boxes.xyxy.cpu().numpy()"
   ]
  },
  {
   "cell_type": "code",
   "execution_count": 12,
   "id": "acd735d7",
   "metadata": {},
   "outputs": [
    {
     "data": {
      "text/plain": [
       "array([    0.95865,     0.92918,     0.92372,       0.912,     0.90565,     0.89583,     0.88082,     0.87895,     0.85302,     0.76887], dtype=float32)"
      ]
     },
     "execution_count": 12,
     "metadata": {},
     "output_type": "execute_result"
    }
   ],
   "source": [
    "results.boxes.conf.cpu().numpy()"
   ]
  },
  {
   "cell_type": "code",
   "execution_count": 13,
   "id": "8b265392",
   "metadata": {},
   "outputs": [
    {
     "data": {
      "text/plain": [
       "['orange',\n",
       " 'orange',\n",
       " 'blue',\n",
       " 'yellow',\n",
       " 'red',\n",
       " 'blue',\n",
       " 'green',\n",
       " 'yellow',\n",
       " 'green',\n",
       " 'red']"
      ]
     },
     "execution_count": 13,
     "metadata": {},
     "output_type": "execute_result"
    }
   ],
   "source": [
    "classes = [results.names[int(c)] for c in results.boxes.cls.cpu().numpy()]\n",
    "classes"
   ]
  }
 ],
 "metadata": {
  "kernelspec": {
   "display_name": "base",
   "language": "python",
   "name": "python3"
  },
  "language_info": {
   "codemirror_mode": {
    "name": "ipython",
    "version": 3
   },
   "file_extension": ".py",
   "mimetype": "text/x-python",
   "name": "python",
   "nbconvert_exporter": "python",
   "pygments_lexer": "ipython3",
   "version": "3.12.9"
  }
 },
 "nbformat": 4,
 "nbformat_minor": 5
}
