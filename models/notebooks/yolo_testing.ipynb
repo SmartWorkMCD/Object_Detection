{
 "cells": [
  {
   "cell_type": "markdown",
   "id": "a6ee912c",
   "metadata": {},
   "source": [
    "# **Object Detection - Models Testing**\n",
    "\n",
    "---"
   ]
  },
  {
   "cell_type": "code",
   "execution_count": null,
   "id": "97c38dd9",
   "metadata": {},
   "outputs": [],
   "source": [
    "from glob import glob\n",
    "import io\n",
    "from PIL import Image\n",
    "import torch\n",
    "from ultralytics import YOLO"
   ]
  },
  {
   "cell_type": "code",
   "execution_count": null,
   "id": "25a4fd81",
   "metadata": {},
   "outputs": [
    {
     "name": "stdout",
     "output_type": "stream",
     "text": [
      "Ultralytics 8.3.40  Python-3.12.9 torch-2.7.0+cpu CPU (AMD Ryzen 7 6800H with Radeon Graphics)\n",
      "YOLO11n summary (fused): 238 layers, 2,583,127 parameters, 0 gradients, 6.3 GFLOPs\n"
     ]
    },
    {
     "name": "stderr",
     "output_type": "stream",
     "text": [
      "\u001b[34m\u001b[1mval: \u001b[0mScanning C:\\Users\\mateu\\Downloads\\UA\\Cadeiras\\Seminário\\Object_Detection\\data\\split_data\\labels\\test.cache... 376 images, 0 backgrounds, 0 corrupt: 100%|██████████| 376/376 [00:00<?, ?it/s]\n",
      "c:\\Users\\mateu\\Downloads\\UA\\Cadeiras\\Seminário\\Object_Detection\\.venv\\Lib\\site-packages\\torch\\utils\\data\\dataloader.py:665: UserWarning: 'pin_memory' argument is set as true but no accelerator is found, then device pinned memory won't be used.\n",
      "  warnings.warn(warn_msg)\n",
      "                 Class     Images  Instances      Box(P          R      mAP50  mAP50-95): 100%|██████████| 24/24 [00:12<00:00,  1.92it/s]\n"
     ]
    },
    {
     "name": "stdout",
     "output_type": "stream",
     "text": [
      "                   all        376       3758      0.992      0.995      0.994      0.793\n",
      "                  blue        376        752      0.999      0.999      0.995      0.818\n",
      "                 green        376        752      0.984      0.988      0.993      0.755\n",
      "                orange        376        752      0.993      0.996      0.994      0.804\n",
      "                   red        376        752      0.993      0.997      0.995      0.799\n",
      "                yellow        375        750      0.989      0.992      0.993      0.788\n",
      "Speed: 0.3ms preprocess, 22.2ms inference, 0.0ms loss, 0.4ms postprocess per image\n",
      "Results saved to \u001b[1mc:\\Users\\mateu\\Downloads\\UA\\Cadeiras\\Seminrio\\Object_Detection\\ultralytics\\runs\\detect\\val\u001b[0m\n"
     ]
    }
   ],
   "source": [
    "yolo = YOLO(\"../../ultralytics/runs/detect/train/weights/best.pt\")\n",
    "results = yolo.val(data=\"../../data/dataset.yaml\", split=\"test\", save=True)"
   ]
  }
 ],
 "metadata": {
  "kernelspec": {
   "display_name": "Python 3",
   "language": "python",
   "name": "python3"
  },
  "language_info": {
   "codemirror_mode": {
    "name": "ipython",
    "version": 3
   },
   "file_extension": ".py",
   "mimetype": "text/x-python",
   "name": "python",
   "nbconvert_exporter": "python",
   "pygments_lexer": "ipython3",
   "version": "3.10.12"
  }
 },
 "nbformat": 4,
 "nbformat_minor": 5
}
